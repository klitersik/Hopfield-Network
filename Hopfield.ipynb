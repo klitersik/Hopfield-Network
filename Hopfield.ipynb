{
  "nbformat": 4,
  "nbformat_minor": 0,
  "metadata": {
    "colab": {
      "name": "Hopfield.ipynb",
      "provenance": [],
      "collapsed_sections": []
    },
    "kernelspec": {
      "name": "python3",
      "display_name": "Python 3"
    },
    "language_info": {
      "name": "python"
    }
  },
  "cells": [
    {
      "cell_type": "code",
      "execution_count": 2,
      "metadata": {
        "id": "DuKONdnWJ0kj"
      },
      "outputs": [],
      "source": [
        "import numpy as np\n",
        "import pandas as pd\n",
        "import os\n",
        "import matplotlib.pyplot as plt\n",
        "%matplotlib inline"
      ]
    },
    {
      "cell_type": "code",
      "source": [
        "class Hopfield(object):\n",
        "    def __init__(self, random_state = 1):\n",
        "        self.rgen = np.random.RandomState(random_state)\n",
        "\n",
        "    def fit(self, X):\n",
        "        self.X = X\n",
        "        self.h = X.shape[1]\n",
        "        self.w = X.shape[1]\n",
        "\n",
        "        W_tmp = [[0 for x in range(self.w)] for y in range(self.h)]\n",
        "        W_tmp = np.array(W_tmp)\n",
        "\n",
        "        self.W_ = [[0 for x in range(self.w)] for y in range(self.h)]\n",
        "        self.W_ = np.array(self.W_)\n",
        "\n",
        "        for a in X: \n",
        "            for i in range(self.w):\n",
        "                for j in range(self.w):\n",
        "                    W_tmp[i][j] = a[i]*a[j]\n",
        "            self.W_ = self.W_ + W_tmp\n",
        "        for i in range(self.w):\n",
        "            self.W_[i][i] = 0\n",
        "        return self\n",
        "\n",
        "    def predict_sync(self, Xi, n_iter = 10):\n",
        "        self.Xi = Xi\n",
        "        self.n_iter = n_iter\n",
        "        self.result = []\n",
        "        \n",
        "        W_tmp = [[0 for x in range(self.w)] for y in range(self.h)]\n",
        "        W_tmp = np.array(W_tmp)\n",
        "        \n",
        "        for i in range(self.n_iter):\n",
        "            for i in range(self.w):\n",
        "                for j in range(self.w):\n",
        "                    W_tmp[i][j] = self.W_[i][j] * self.Xi[j]\n",
        "            \n",
        "            self.sums = [0]*self.w\n",
        "            \n",
        "            for i in range(self.w):\n",
        "                self.sums[i] = sum(W_tmp[i])\n",
        "                if self.sums[i] >= 0:\n",
        "                    self.sums[i] = 1\n",
        "                else:\n",
        "                    self.sums[i] = -1\n",
        "            \n",
        "            self.Xi = self.sums\n",
        "            self.result.append(self.Xi)\n",
        "            find_flag = 0\n",
        "            \n",
        "            for l in self.X:\n",
        "                if np.array_equal(l, self.Xi):\n",
        "                    find_flag = 1\n",
        "                    break\n",
        "            if find_flag == 1:\n",
        "                break\n",
        "        return None\n",
        "    \n",
        "    def predict_async1(self, Xi, order, n_iter=10):\n",
        "        self.Xi = Xi\n",
        "        self.n_iter = n_iter\n",
        "        self.result = []\n",
        "        self.order = order\n",
        "\n",
        "        W_tmp = [[0 for x in range(self.w)] for y in range(self.h)]\n",
        "        W_tmp = np.array(W_tmp)\n",
        "\n",
        "        for x in order:\n",
        "            for i in range(self.w):\n",
        "                for j in range(self.w):\n",
        "                    W_tmp[i][j] = self.W_[i][j] * self.Xi[j]\n",
        "\n",
        "            self.sums = [0]*self.w\n",
        "\n",
        "            for i in range(self.w):\n",
        "                self.sums[i] = sum(W_tmp[i])\n",
        "                if self.sums[i] >= 0:\n",
        "                    self.sums[i] = 1\n",
        "                else:\n",
        "                    self.sums[i] = -1\n",
        "            \n",
        "            self.sums = np.array(self.sums)\n",
        "            self.Xi[x-1] = self.sums[x-1]\n",
        "            tmp = list(self.Xi)\n",
        "            self.result.append(tmp)\n",
        "        return None\n",
        "    \n",
        "    def predict_async2(self, Xi, n_iter=10):\n",
        "        self.order = []\n",
        "        self.Xi = Xi\n",
        "        self.n_iter = n_iter\n",
        "        self.result = []\n",
        "\n",
        "        for i in range(len(self.Xi)):\n",
        "            self.order.append(i+1)\n",
        "\n",
        "        self.order = np.array(self.order) \n",
        "        np.random.shuffle(self.order)\n",
        "        self.order = list(self.order)\n",
        "\n",
        "        W_tmp = [[0 for x in range(self.w)] for y in range(self.h)]\n",
        "        W_tmp = np.array(W_tmp)\n",
        "\n",
        "        for x in self.order:\n",
        "            for i in range(self.w):\n",
        "                for j in range(self.w):\n",
        "                    W_tmp[i][j] = self.W_[i][j] * self.Xi[j]\n",
        "\n",
        "            self.sums = [0]*self.w\n",
        "\n",
        "            for i in range(self.w):\n",
        "                self.sums[i] = sum(W_tmp[i])\n",
        "                if self.sums[i] >= 0:\n",
        "                    self.sums[i] = 1\n",
        "                else:\n",
        "                    self.sums[i] = -1\n",
        "            \n",
        "            self.sums = np.array(self.sums)\n",
        "            self.Xi[x-1] = self.sums[x-1]\n",
        "            tmp = list(self.Xi)\n",
        "            self.result.append(tmp)\n",
        "\n",
        "        return None\n",
        "\n",
        "    def show_result(self, width, height, nrows):\n",
        "        self.width = width\n",
        "        self.height = height\n",
        "        self.nrows = nrows\n",
        "\n",
        "        tmp = []\n",
        "        for l in self.result:\n",
        "            tmp.append([l[i:i+width] for i in range(0, len(l), width)])\n",
        "        if len(tmp) >= nrows:\n",
        "            divider = len(tmp) / nrows\n",
        "            divider = int(divider)\n",
        "        else:\n",
        "            divider = 1\n",
        "\n",
        "        _, axs = plt.subplots(nrows, divider)\n",
        "        axs = axs.flatten()\n",
        "\n",
        "        for img, ax in zip(tmp, axs):\n",
        "            ax.imshow(img,cmap='bwr')\n",
        "        plt.show()\n",
        "\n",
        "        return None\n",
        "\n",
        "    def show(self, data, width, height, nrows):\n",
        "        self.data = np.array(data)\n",
        "        self.result = data\n",
        "        self.show_result(width,height,nrows)"
      ],
      "metadata": {
        "id": "i6SiGDTbJ8JD"
      },
      "execution_count": 46,
      "outputs": []
    },
    {
      "cell_type": "code",
      "source": [
        "X = np.array([\n",
        "              [-1, 1, -1, 1, -1, 1, 1,-1, 1, -1, 1,-1], \n",
        "              [1, 1, 1, -1, 1, -1, -1, 1, -1, -1, 1,-1]], np.int32)"
      ],
      "metadata": {
        "id": "KvduQPtRKqcA"
      },
      "execution_count": 43,
      "outputs": []
    },
    {
      "cell_type": "code",
      "source": [
        "hop = Hopfield()\n",
        "data = hop.fit(X)\n",
        "example = [0, 1, 1, 1, 0, 1, -1, -1, -1, 0, 1, 0]"
      ],
      "metadata": {
        "id": "oQn85sLRO8wt"
      },
      "execution_count": 48,
      "outputs": []
    },
    {
      "cell_type": "code",
      "source": [
        "data.predict_sync(example)\n",
        "data.show_result(3,4,1)"
      ],
      "metadata": {
        "id": "7iLGfwkWeklE"
      },
      "execution_count": null,
      "outputs": []
    },
    {
      "cell_type": "code",
      "source": [
        "data.predict_async1(example,[6 ,1, 11, 12, 2, 9, 3, 5, 7, 10, 4, 8, 8, 11, 2, 9, 7, 5, 1, 4, 6, 12, 3, 10])\n",
        "data.show_result(3,4,3)"
      ],
      "metadata": {
        "id": "XvSiu4OXd6QE"
      },
      "execution_count": null,
      "outputs": []
    },
    {
      "cell_type": "code",
      "source": [
        "data.predict_async2([0, 1, 1, 1, 0, 1, -1, -1, -1, 0, 1, 0])\n",
        "data.show_result(3,4,3)"
      ],
      "metadata": {
        "id": "jY4vKwuIeFsS"
      },
      "execution_count": null,
      "outputs": []
    }
  ]
}